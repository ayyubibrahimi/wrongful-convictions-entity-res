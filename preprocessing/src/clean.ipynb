{
 "cells": [
  {
   "cell_type": "code",
   "execution_count": 11,
   "metadata": {},
   "outputs": [],
   "source": [
    "import pandas as pd\n",
    "from lib import clean_column_names\n",
    "import re"
   ]
  },
  {
   "cell_type": "code",
   "execution_count": 12,
   "metadata": {},
   "outputs": [],
   "source": [
    "def read_csv():\n",
    "    dfa = pd.read_csv(\"../data/input/reports-new.csv\")\n",
    "    dfb = pd.read_csv(\"../data/input/transcripts-new.csv\")\n",
    "    \n",
    "    filtered_dfa = dfa[~dfa['uid'].isin(dfb['uid'])]\n",
    "\n",
    "    df = pd.concat([filtered_dfa, dfb], ignore_index=True)  \n",
    "    \n",
    "    return df"
   ]
  },
  {
   "cell_type": "code",
   "execution_count": 13,
   "metadata": {},
   "outputs": [],
   "source": [
    "def split_rows_with_multiple_officers(df):\n",
    "    df = (\n",
    "        df.drop(\"officer_name\", axis=1)\n",
    "        .join(\n",
    "            df[\"officer_name\"]\n",
    "            .str.split(\"and\", expand=True)\n",
    "            .stack()\n",
    "            .reset_index(level=1, drop=True)\n",
    "            .rename(\"officer_name\"),\n",
    "            how=\"outer\",\n",
    "        )\n",
    "        .reset_index(drop=True)\n",
    "    )\n",
    "    return df\n",
    "\n",
    "\n",
    "def sanitize_officer_context(df):\n",
    "    df.loc[:, \"officer_context\"] = df.officer_context.str.lower().str.strip()   \n",
    "    return df\n",
    "\n",
    "\n",
    "def filter_by_role(df):\n",
    "    df.loc[:, \"officer_role\"] = df.officer_role.str.lower().str.strip()\n",
    "\n",
    "    officer_roles = ['officer', 'ofc.', 'lieutenant', 'lt.', 'detective', 'det.', \n",
    "                    'sergeant', 'sgt.', 'captain', 'cpt.', 'chief', 'inspector', \n",
    "                    'deputy', 'marshal', 'corporal', 'cpl.', 'commander', 'cmdr.', \n",
    "                    'agent', 'patrolman', 'trooper', 'sheriff', \"coroner\", \"dr.\", \"doctor\",\n",
    "                    \"p/o\", \"police officer\"]\n",
    "\n",
    "    regex_pattern = '|'.join(officer_roles)\n",
    "    regex_pattern = r'\\b(?:' + regex_pattern + r')\\b'\n",
    "    regex_pattern = re.compile(regex_pattern, re.IGNORECASE)\n",
    "\n",
    "    df = df[df['officer_role'].fillna(\"\").str.contains(regex_pattern)]\n",
    "\n",
    "    df.loc[:, \"officer_role\"] = (df\n",
    "                                .officer_role.str.replace(r\"^n/a(.+)\", \"\", regex=True)\n",
    "                                .str.replace(r\"(.+)?presumed(.+)\", \"\", regex=True)\n",
    "                                .str.replace(r\"(.+)?(not explicitly mentioned as a law enforcement officer|not a law enforcement officer)(.+)?\", \"\", regex=True)\n",
    "                                .str.replace(r\"(.+)?(suspect|civilian|unclear from the context|role not specified)(.+)?\", \"\", regex=True)\n",
    "    )\n",
    "\n",
    "    df = df[~((df.officer_role == \"\"))]\n",
    "    return df \n",
    "\n",
    "\n",
    "def split_name(name):\n",
    "    if pd.isnull(name) or name.strip() == '':\n",
    "        return ['Unknown', 'Unknown']\n",
    "\n",
    "    name = re.sub(r'^(Reporting Officer|Detective|Det\\.|P\\/O|Officer|Police Officer|Chief|Chief of Trials|Police|Coroner\\'s|Coroner\\'s Investigator|Unit #\\d+Of|Driver|Cap|Superintendent|Not specified)\\s*', '', name, flags=re.IGNORECASE)\n",
    "    name = re.sub(r'\\s*(Badge\\s*\\d+|Unit\\s*#\\d+|Type\\s*Name|Mentioned\\s*Again|Later|\\(.*?\\))\\s*$', '', name, flags=re.IGNORECASE)\n",
    "\n",
    "    name = re.sub(r'(?<=[a-z])([A-Z])', r' \\1', name)\n",
    "\n",
    "    name = re.sub(r'^([A-Z])([A-Z][a-z]+)', r'\\2', name)\n",
    "\n",
    "    # Split the name\n",
    "    parts = name.split()\n",
    "    if len(parts) == 1:\n",
    "        return ['Unknown', parts[0]]\n",
    "    elif len(parts) >= 2:\n",
    "        return [parts[0], ' '.join(parts[1:])]\n",
    "    else:\n",
    "        return ['Unknown', 'Unknown']\n",
    "\n",
    "\n",
    "def sanitize_names(df):\n",
    "    df.loc[:, \"first_name\"] = (df.first_name\n",
    "                               .str.lower()\n",
    "                               .str.strip()\n",
    "                               .str.replace(r\"unknown\", \"\", regex=True)\n",
    "                               .str.replace(r\"^p\\.o\\.\", \"\", regex=True)\n",
    "    )\n",
    "    df.loc[:, \"last_name\"] = (df.last_name.str.lower().str.strip()\n",
    "                              .str.replace(r\"unknown\", \"\", regex=True)\n",
    "                            #   .str.replace(r\" ?#(.+)$\", \"\", regex=True)\n",
    "                              .str.replace(r\"^ (\\w+)\", r\"\\1\", regex=True)\n",
    "                              .str.replace(r\"(\\w+) $\", r\"\\1\", regex=True)\n",
    "    )\n",
    "    df.loc[:, \"fc\"] = df.first_name.map(lambda x: x[:5])\n",
    "    df.loc[:, \"lc\"] = df.last_name.map(lambda x: x[:5])\n",
    "    df = df.drop_duplicates(subset=[\"first_name\", \"last_name\", \"officer_context\", \"officer_role\"])\n",
    "\n",
    "    full_names = df.first_name.str.cat(df.last_name, sep=\" \")\n",
    "    df = df[~((df.first_name == \"\") & (df.last_name == \"\"))]\n",
    "    return df, full_names\n",
    "\n",
    "\n",
    "def generate_uid(row, desired_length=10):\n",
    "    raw_uid = abs(hash(f\"{row['first_name']}{row['last_name']}{row['officer_role']}{row['officer_context']}\"))\n",
    "    raw_uid_str = str(raw_uid)\n",
    "    if len(raw_uid_str) > desired_length:\n",
    "        uid_str = raw_uid_str[:desired_length]\n",
    "    else:\n",
    "        uid_str = raw_uid_str.zfill(desired_length)\n",
    "    \n",
    "    return int(uid_str)\n"
   ]
  },
  {
   "cell_type": "code",
   "execution_count": 14,
   "metadata": {},
   "outputs": [
    {
     "data": {
      "text/plain": [
       "Index(['officer_context', 'officer_role', 'page_number', 'fn', 'query',\n",
       "       'prompt_template_for_hyde', 'prompt_template_for_model', 'chunk_size',\n",
       "       'chunk_overlap', 'temperature', 'k', 'hyde', 'iteration',\n",
       "       'num_of_queries', 'model', 'uid', 'officer_name', 'first_name',\n",
       "       'last_name', 'fc', 'lc', 'person_uid'],\n",
       "      dtype='object')"
      ]
     },
     "execution_count": 14,
     "metadata": {},
     "output_type": "execute_result"
    }
   ],
   "source": [
    "\n",
    "df = read_csv()\n",
    "\n",
    "df = df.pipe(clean_column_names).pipe(split_rows_with_multiple_officers).pipe(filter_by_role).pipe(sanitize_officer_context)\n",
    " \n",
    "df[['first_name', 'last_name']] = df['officer_name'].apply(lambda x: pd.Series(split_name(x)))\n",
    "\n",
    "df, full_names = df.pipe(sanitize_names)\n",
    "\n",
    "df['person_uid'] = df.apply(lambda row: generate_uid(row, 10), axis=1)\n",
    "\n",
    "df.columns"
   ]
  },
  {
   "cell_type": "code",
   "execution_count": 15,
   "metadata": {},
   "outputs": [],
   "source": [
    "# df.to_csv(\"../data/output/clean.csv\", index=False) "
   ]
  }
 ],
 "metadata": {
  "kernelspec": {
   "display_name": "Python 3",
   "language": "python",
   "name": "python3"
  },
  "language_info": {
   "codemirror_mode": {
    "name": "ipython",
    "version": 3
   },
   "file_extension": ".py",
   "mimetype": "text/x-python",
   "name": "python",
   "nbconvert_exporter": "python",
   "pygments_lexer": "ipython3",
   "version": "3.11.7"
  }
 },
 "nbformat": 4,
 "nbformat_minor": 2
}
