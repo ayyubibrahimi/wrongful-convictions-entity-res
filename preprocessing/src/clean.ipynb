{
 "cells": [
  {
   "cell_type": "code",
   "execution_count": 53,
   "metadata": {},
   "outputs": [],
   "source": [
    "import pandas as pd\n",
    "from lib import clean_column_names\n",
    "import re"
   ]
  },
  {
   "cell_type": "code",
   "execution_count": 54,
   "metadata": {},
   "outputs": [],
   "source": [
    "def read_csv():\n",
    "    df = pd.read_csv(\"../data/input/reports.csv\")\n",
    "    \n",
    "    return df"
   ]
  },
  {
   "cell_type": "code",
   "execution_count": 55,
   "metadata": {},
   "outputs": [],
   "source": [
    "def split_rows_with_multiple_officers(df):\n",
    "    df = (\n",
    "        df.drop(\"officer_name\", axis=1)\n",
    "        .join(\n",
    "            df[\"officer_name\"]\n",
    "            .str.split(\"and\", expand=True)\n",
    "            .stack()\n",
    "            .reset_index(level=1, drop=True)\n",
    "            .rename(\"officer_name\"),\n",
    "            how=\"outer\",\n",
    "        )\n",
    "        .reset_index(drop=True)\n",
    "    )\n",
    "    return df\n",
    "\n",
    "\n",
    "def sanitize_officer_context(df):\n",
    "    df.loc[:, \"officer_context\"] = df.officer_context.str.lower().str.strip()   \n",
    "    return df\n",
    "\n",
    "\n",
    "def filter_by_role(df):\n",
    "    df.loc[:, \"officer_role\"] = df.officer_role.str.lower().str.strip()\n",
    "\n",
    "    officer_roles = ['officer', 'ofc.', 'police officer', 'police ofc.', 'lieutenant', 'police lieutenant', 'lt.',  'police lt.', \n",
    "                     'detective', 'det.', 'sergeant', 'sgt.', 'police sergeant', 'police sgt.', 'captain', 'cpt.', 'chief', 'inspector', \n",
    "                    'deputy', 'marshal', 'corporal', 'cpl.', 'police corporal', 'police cpl.', 'commander', 'cmdr.', \n",
    "                    'agent', 'patrolman', 'trooper', 'sheriff', \"coroner\", \"dr.\", \"doctor\", \"p/o\", \"p.o.\" \"police officer\"]\n",
    "\n",
    "    regex_pattern = '|'.join(officer_roles)\n",
    "    regex_pattern = r'\\b(?:' + regex_pattern + r')\\b'\n",
    "    regex_pattern = re.compile(regex_pattern, re.IGNORECASE)\n",
    "\n",
    "    df = df[df['officer_role'].fillna(\"\").str.contains(regex_pattern)]\n",
    "\n",
    "    df.loc[:, \"officer_role\"] = (df\n",
    "                                .officer_role.str.replace(r\"^n/a(.+)\", \"\", regex=True)\n",
    "                                .str.replace(r\"(.+)?presumed(.+)\", \"\", regex=True)\n",
    "                                .str.replace(r\"(.+)?(not explicitly mentioned as a law enforcement officer|not a law enforcement officer)(.+)?\", \"\", regex=True)\n",
    "                                .str.replace(r\"(.+)?(suspect|civilian|unclear from the context|role not specified)(.+)?\", \"\", regex=True)\n",
    "    )\n",
    "\n",
    "    df = df[~((df.officer_role == \"\"))]\n",
    "    return df \n",
    "\n",
    "\n",
    "def remove_titles(df):\n",
    "    df.loc[:, \"officer_name\"] = df.officer_name.str.lower().str.strip().str.replace(r\"^(sgt\\.?|sergeant|lt\\.?|lieutenant|cpl\\.|corporal|reporting officer|detective|det\\.|p\\/o|officer|police officer|chief|chief of trials|police|coroner\\'s|coroner\\'s investigator|unit #\\d+of|driver|cap|superintendent|not specified|dr\\.|doctor|sheriff)\", \"\", regex=True)\n",
    "    return df \n",
    "\n",
    "def blocking_keys(df):\n",
    "    df.loc[:, \"fc\"] = df.fillna(\"\").first_name.map(lambda x: x[:3])\n",
    "    df.loc[:, \"lc\"] = df.fillna(\"\").last_name.map(lambda x: x[:3])\n",
    "    df = df.drop_duplicates(subset=[\"first_name\", \"last_name\", \"officer_context\", \"officer_role\"])\n",
    "\n",
    "    full_names = df.first_name.str.cat(df.last_name, sep=\" \")\n",
    "    df = df[~((df.first_name == \"\") & (df.last_name == \"\"))]\n",
    "    return df, full_names\n",
    "def split_officer_name(name):\n",
    "    if pd.isna(name) or not isinstance(name, str):\n",
    "        return pd.Series({'first_name': '', 'middle_name': '', 'last_name': '', 'suffix': ''})\n",
    "    \n",
    "    name = name.strip().rstrip('.,')\n",
    "    \n",
    "    suffixes = {'jr', 'sr', 'ii', 'iii', 'iv', 'v'}\n",
    "    \n",
    "    suffix = ''\n",
    "    for s in suffixes:\n",
    "        if name.lower().endswith(' ' + s) or name.lower().endswith(',' + s):\n",
    "            suffix = s\n",
    "            name = name[:-(len(s)+1)].strip().rstrip(',')\n",
    "            break\n",
    "    \n",
    "    parts = re.split(r',\\s*|\\s+', name)\n",
    "    \n",
    "    if ',' in name:  \n",
    "        last_name = parts[0]\n",
    "        first_name = parts[1] if len(parts) > 1 else ''\n",
    "        middle_name = ' '.join(parts[2:]) or ''\n",
    "    elif name.isupper():  \n",
    "        last_name = parts[0]\n",
    "        first_name = parts[1] if len(parts) > 1 else ''\n",
    "        middle_name = ' '.join(parts[2:]) or ''\n",
    "    else:  \n",
    "        first_name = parts[0]\n",
    "        last_name = parts[-1]\n",
    "        middle_name = ' '.join(parts[1:-1]) or ''\n",
    "    \n",
    "    return pd.Series({'first_name': first_name, 'middle_name': middle_name, 'last_name': last_name, 'suffix': suffix})\n",
    "\n",
    "def generate_uid(row, desired_length=10):\n",
    "    raw_uid = abs(hash(f\"{row['first_name']}{row['last_name']}{row['officer_role']}{row['officer_context']}\"))\n",
    "    raw_uid_str = str(raw_uid)\n",
    "    if len(raw_uid_str) > desired_length:\n",
    "        uid_str = raw_uid_str[:desired_length]\n",
    "    else:\n",
    "        uid_str = raw_uid_str.zfill(desired_length)\n",
    "    \n",
    "    return int(uid_str)\n",
    "\n",
    "\n",
    "df = read_csv()"
   ]
  },
  {
   "cell_type": "code",
   "execution_count": 56,
   "metadata": {},
   "outputs": [],
   "source": [
    "df = df.pipe(clean_column_names).pipe(split_rows_with_multiple_officers).pipe(filter_by_role).pipe(sanitize_officer_context).pipe(remove_titles)\n",
    " \n",
    "name_parts = df['officer_name'].apply(split_officer_name)\n",
    "\n",
    "df[['first_name', 'middle_name', 'last_name', 'suffix']] = name_parts\n",
    "\n",
    "df, full_names = df.pipe(blocking_keys)\n",
    "\n",
    "df.to_csv(\"../data/output/clean_review.csv\", index=False)"
   ]
  },
  {
   "cell_type": "code",
   "execution_count": null,
   "metadata": {},
   "outputs": [],
   "source": [
    "# df"
   ]
  },
  {
   "cell_type": "code",
   "execution_count": null,
   "metadata": {},
   "outputs": [],
   "source": [
    "# df['person_uid'] = df.apply(lambda row: generate_uid(row, 10), axis=1)\n"
   ]
  },
  {
   "cell_type": "code",
   "execution_count": null,
   "metadata": {},
   "outputs": [],
   "source": [
    "# df.to_csv(\"../data/output/clean.csv\", index=False) "
   ]
  }
 ],
 "metadata": {
  "kernelspec": {
   "display_name": "Python 3 (ipykernel)",
   "language": "python",
   "name": "python3"
  },
  "language_info": {
   "codemirror_mode": {
    "name": "ipython",
    "version": 3
   },
   "file_extension": ".py",
   "mimetype": "text/x-python",
   "name": "python",
   "nbconvert_exporter": "python",
   "pygments_lexer": "ipython3",
   "version": "3.11.5"
  }
 },
 "nbformat": 4,
 "nbformat_minor": 4
}
