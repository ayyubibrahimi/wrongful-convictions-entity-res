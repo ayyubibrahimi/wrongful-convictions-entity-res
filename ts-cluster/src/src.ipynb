{
 "cells": [
  {
   "cell_type": "code",
   "execution_count": 1,
   "metadata": {},
   "outputs": [
    {
     "name": "stderr",
     "output_type": "stream",
     "text": [
      "stty: stdin isn't a terminal\n"
     ]
    }
   ],
   "source": [
    "from datamatch import (\n",
    "    ThresholdMatcher,\n",
    "    ColumnsIndex,\n",
    "    JaroWinklerSimilarity,\n",
    "    MaxScorer,\n",
    "    SimSumScorer,\n",
    "    AlterScorer,\n",
    "    MultiIndex,\n",
    ")\n",
    "from datavalid.spinner import Spinner\n",
    "import pandas as pd\n",
    "from lib import clean_column_names\n",
    "import re"
   ]
  },
  {
   "cell_type": "code",
   "execution_count": 2,
   "metadata": {},
   "outputs": [],
   "source": [
    "def read():\n",
    "    df = pd.read_csv(\"../../preprocessing/data/output/output-clean.csv\")\n",
    "    return df"
   ]
  },
  {
   "cell_type": "code",
   "execution_count": 3,
   "metadata": {},
   "outputs": [],
   "source": [
    "df = read()\n",
    "\n",
    "full_names = df.first_name.str.cat(df.last_name, sep=\" \")"
   ]
  },
  {
   "cell_type": "code",
   "execution_count": 4,
   "metadata": {},
   "outputs": [],
   "source": [
    "def jarowink_matcher(personnel):\n",
    "    excel_path = \"../data/output/jarowink_matches_test.xlsx\"\n",
    "    per = personnel\n",
    "    per\n",
    "    matcher = ThresholdMatcher(\n",
    "        index=MultiIndex(\n",
    "            [\n",
    "                ColumnsIndex([\"fc\", \"lc\"]),\n",
    "            ]\n",
    "        ),\n",
    "        scorer=MaxScorer(\n",
    "            [\n",
    "                AlterScorer(\n",
    "                    scorer=SimSumScorer(\n",
    "                        {\n",
    "                            \"first_name\": JaroWinklerSimilarity(),\n",
    "                            \"last_name\": JaroWinklerSimilarity(),\n",
    "                        }\n",
    "                    ),\n",
    "                    # but for pairs that have the same name and their name is common\n",
    "                    values=full_names,\n",
    "                    # give a penalty of -.2 which is enough to eliminate them\n",
    "                    alter=lambda score: score - 0.2,\n",
    "                ),\n",
    "            ]\n",
    "        ),\n",
    "        dfa=per,\n",
    "    )\n",
    "    decision = .5\n",
    "    with Spinner(\"saving matched clusters to Excel file\"):\n",
    "        matcher.save_clusters_to_excel(excel_path, decision, lower_bound=decision)\n",
    "    clusters = matcher.get_index_clusters_within_thresholds(decision)\n",
    "    print(\"saved %d clusters to %s\" % (len(clusters), excel_path))\n",
    "\n",
    "    return clusters\n"
   ]
  },
  {
   "cell_type": "code",
   "execution_count": 5,
   "metadata": {},
   "outputs": [
    {
     "name": "stdout",
     "output_type": "stream",
     "text": [
      "  saving matched clusters to Excel file saving matched clusters to Excel file saving matched clusters to Excel file saving matched clusters to Excel file saving matched clusters to Excel file saving matched clusters to Excel file saving matched clusters to Excel file saving matched clusters to Excel file\r"
     ]
    },
    {
     "ename": "IndexError",
     "evalue": "At least one sheet must be visible",
     "output_type": "error",
     "traceback": [
      "\u001b[0;31m---------------------------------------------------------------------------\u001b[0m",
      "\u001b[0;31mKeyboardInterrupt\u001b[0m                         Traceback (most recent call last)",
      "File \u001b[0;32m/opt/homebrew/lib/python3.11/site-packages/datamatch/matchers.py:453\u001b[0m, in \u001b[0;36mThresholdMatcher.save_clusters_to_excel\u001b[0;34m(self, name, match_threshold, lower_bound, include_exact_matches)\u001b[0m\n\u001b[1;32m    452\u001b[0m \u001b[39mwith\u001b[39;00m pd\u001b[39m.\u001b[39mExcelWriter(name) \u001b[39mas\u001b[39;00m writer:\n\u001b[0;32m--> 453\u001b[0m     \u001b[39mself\u001b[39;49m\u001b[39m.\u001b[39;49mget_clusters_within_threshold(\n\u001b[1;32m    454\u001b[0m         lower_bound,\n\u001b[1;32m    455\u001b[0m         include_exact_matches\n\u001b[1;32m    456\u001b[0m     )\u001b[39m.\u001b[39mto_excel(writer, sheet_name\u001b[39m=\u001b[39m\u001b[39m'\u001b[39m\u001b[39mAll clusters\u001b[39m\u001b[39m'\u001b[39m)\n\u001b[1;32m    457\u001b[0m     \u001b[39mself\u001b[39m\u001b[39m.\u001b[39m_decision_series(\n\u001b[1;32m    458\u001b[0m         match_threshold\n\u001b[1;32m    459\u001b[0m     )\u001b[39m.\u001b[39mto_excel(writer, sheet_name\u001b[39m=\u001b[39m\u001b[39m\"\u001b[39m\u001b[39mDecision\u001b[39m\u001b[39m\"\u001b[39m)\n",
      "File \u001b[0;32m/opt/homebrew/lib/python3.11/site-packages/datamatch/matchers.py:271\u001b[0m, in \u001b[0;36mThresholdMatcher.get_clusters_within_threshold\u001b[0;34m(self, lower_bound, upper_bound, include_exact_matches)\u001b[0m\n\u001b[1;32m    264\u001b[0m         records\u001b[39m.\u001b[39mappend(\u001b[39mdict\u001b[39m([\n\u001b[1;32m    265\u001b[0m             (\u001b[39m\"\u001b[39m\u001b[39mcluster_idx\u001b[39m\u001b[39m\"\u001b[39m, cluster_idx), (\u001b[39m\"\u001b[39m\u001b[39mpair_idx\u001b[39m\u001b[39m\"\u001b[39m, pair_idx),\n\u001b[1;32m    266\u001b[0m             (\u001b[39m\"\u001b[39m\u001b[39msim_score\u001b[39m\u001b[39m\"\u001b[39m, sim_score), (\u001b[39m\"\u001b[39m\u001b[39mrow_key\u001b[39m\u001b[39m\"\u001b[39m, idx_a)\n\u001b[1;32m    267\u001b[0m         ] \u001b[39m+\u001b[39m \u001b[39mlist\u001b[39m(\u001b[39mself\u001b[39m\u001b[39m.\u001b[39m_pairer\u001b[39m.\u001b[39mframe_a\u001b[39m.\u001b[39mloc[idx_a]\u001b[39m.\u001b[39mto_dict()\u001b[39m.\u001b[39mitems())))\n\u001b[1;32m    268\u001b[0m         records\u001b[39m.\u001b[39mappend(\u001b[39mdict\u001b[39m([\n\u001b[1;32m    269\u001b[0m             (\u001b[39m\"\u001b[39m\u001b[39mcluster_idx\u001b[39m\u001b[39m\"\u001b[39m, cluster_idx), (\u001b[39m\"\u001b[39m\u001b[39mpair_idx\u001b[39m\u001b[39m\"\u001b[39m, pair_idx),\n\u001b[1;32m    270\u001b[0m             (\u001b[39m\"\u001b[39m\u001b[39msim_score\u001b[39m\u001b[39m\"\u001b[39m, sim_score), (\u001b[39m\"\u001b[39m\u001b[39mrow_key\u001b[39m\u001b[39m\"\u001b[39m, idx_b)\n\u001b[0;32m--> 271\u001b[0m         ] \u001b[39m+\u001b[39m \u001b[39mlist\u001b[39m(\u001b[39mself\u001b[39;49m\u001b[39m.\u001b[39;49m_pairer\u001b[39m.\u001b[39;49mframe_b\u001b[39m.\u001b[39;49mloc[idx_b]\u001b[39m.\u001b[39mto_dict()\u001b[39m.\u001b[39mitems())))\n\u001b[1;32m    272\u001b[0m \u001b[39mreturn\u001b[39;00m pd\u001b[39m.\u001b[39mDataFrame\u001b[39m.\u001b[39mfrom_records(\n\u001b[1;32m    273\u001b[0m     records,\n\u001b[1;32m    274\u001b[0m     index\u001b[39m=\u001b[39m[\u001b[39m\"\u001b[39m\u001b[39mcluster_idx\u001b[39m\u001b[39m\"\u001b[39m, \u001b[39m\"\u001b[39m\u001b[39mpair_idx\u001b[39m\u001b[39m\"\u001b[39m, \u001b[39m\"\u001b[39m\u001b[39msim_score\u001b[39m\u001b[39m\"\u001b[39m, \u001b[39m\"\u001b[39m\u001b[39mrow_key\u001b[39m\u001b[39m\"\u001b[39m])\n",
      "File \u001b[0;32m/opt/homebrew/lib/python3.11/site-packages/pandas/core/indexing.py:1192\u001b[0m, in \u001b[0;36m_LocationIndexer.__getitem__\u001b[0;34m(self, key)\u001b[0m\n\u001b[1;32m   1191\u001b[0m maybe_callable \u001b[39m=\u001b[39m \u001b[39mself\u001b[39m\u001b[39m.\u001b[39m_check_deprecated_callable_usage(key, maybe_callable)\n\u001b[0;32m-> 1192\u001b[0m \u001b[39mreturn\u001b[39;00m \u001b[39mself\u001b[39;49m\u001b[39m.\u001b[39;49m_getitem_axis(maybe_callable, axis\u001b[39m=\u001b[39;49maxis)\n",
      "File \u001b[0;32m/opt/homebrew/lib/python3.11/site-packages/pandas/core/indexing.py:1413\u001b[0m, in \u001b[0;36m_LocIndexer._getitem_axis\u001b[0;34m(self, key, axis)\u001b[0m\n\u001b[1;32m   1412\u001b[0m     \u001b[39mreturn\u001b[39;00m \u001b[39mself\u001b[39m\u001b[39m.\u001b[39m_get_slice_axis(key, axis\u001b[39m=\u001b[39maxis)\n\u001b[0;32m-> 1413\u001b[0m \u001b[39melif\u001b[39;00m com\u001b[39m.\u001b[39;49mis_bool_indexer(key):\n\u001b[1;32m   1414\u001b[0m     \u001b[39mreturn\u001b[39;00m \u001b[39mself\u001b[39m\u001b[39m.\u001b[39m_getbool_axis(key, axis\u001b[39m=\u001b[39maxis)\n",
      "File \u001b[0;32m/opt/homebrew/lib/python3.11/site-packages/pandas/core/common.py:125\u001b[0m, in \u001b[0;36mis_bool_indexer\u001b[0;34m(key)\u001b[0m\n\u001b[1;32m     98\u001b[0m \u001b[39m\u001b[39m\u001b[39m\"\"\"\u001b[39;00m\n\u001b[1;32m     99\u001b[0m \u001b[39mCheck whether `key` is a valid boolean indexer.\u001b[39;00m\n\u001b[1;32m    100\u001b[0m \n\u001b[0;32m   (...)\u001b[0m\n\u001b[1;32m    123\u001b[0m \u001b[39m    and convert to an ndarray.\u001b[39;00m\n\u001b[1;32m    124\u001b[0m \u001b[39m\"\"\"\u001b[39;00m\n\u001b[0;32m--> 125\u001b[0m \u001b[39mif\u001b[39;00m \u001b[39misinstance\u001b[39m(\n\u001b[1;32m    126\u001b[0m     key, (ABCSeries, np\u001b[39m.\u001b[39mndarray, ABCIndex, ABCExtensionArray)\n\u001b[1;32m    127\u001b[0m ) \u001b[39mand\u001b[39;00m \u001b[39mnot\u001b[39;00m \u001b[39misinstance\u001b[39m(key, ABCMultiIndex):\n\u001b[1;32m    128\u001b[0m     \u001b[39mif\u001b[39;00m key\u001b[39m.\u001b[39mdtype \u001b[39m==\u001b[39m np\u001b[39m.\u001b[39mobject_:\n",
      "File \u001b[0;32m/opt/homebrew/lib/python3.11/site-packages/pandas/core/dtypes/generic.py:42\u001b[0m, in \u001b[0;36mcreate_pandas_abc_type.<locals>._instancecheck\u001b[0;34m(cls, inst)\u001b[0m\n\u001b[1;32m     40\u001b[0m \u001b[39m# https://github.com/python/mypy/issues/1006\u001b[39;00m\n\u001b[1;32m     41\u001b[0m \u001b[39m# error: 'classmethod' used with a non-method\u001b[39;00m\n\u001b[0;32m---> 42\u001b[0m \u001b[39m@classmethod\u001b[39m  \u001b[39m# type: ignore[misc]\u001b[39;00m\n\u001b[1;32m     43\u001b[0m \u001b[39mdef\u001b[39;00m \u001b[39m_instancecheck\u001b[39m(\u001b[39mcls\u001b[39m, inst) \u001b[39m-\u001b[39m\u001b[39m>\u001b[39m \u001b[39mbool\u001b[39m:\n\u001b[1;32m     44\u001b[0m     \u001b[39mreturn\u001b[39;00m _check(inst) \u001b[39mand\u001b[39;00m \u001b[39mnot\u001b[39;00m \u001b[39misinstance\u001b[39m(inst, \u001b[39mtype\u001b[39m)\n",
      "\u001b[0;31mKeyboardInterrupt\u001b[0m: ",
      "\nDuring handling of the above exception, another exception occurred:\n",
      "\u001b[0;31mIndexError\u001b[0m                                Traceback (most recent call last)",
      "\u001b[1;32m/Users/ayyub/Desktop/entity-resolution/wrongful-convictions-entity-res/initial-cluster/src/src.ipynb Cell 5\u001b[0m line \u001b[0;36m1\n\u001b[0;32m----> <a href='vscode-notebook-cell:/Users/ayyub/Desktop/entity-resolution/wrongful-convictions-entity-res/initial-cluster/src/src.ipynb#W6sZmlsZQ%3D%3D?line=0'>1</a>\u001b[0m jarowink_matcher(df)\n",
      "\u001b[1;32m/Users/ayyub/Desktop/entity-resolution/wrongful-convictions-entity-res/initial-cluster/src/src.ipynb Cell 5\u001b[0m line \u001b[0;36m3\n\u001b[1;32m     <a href='vscode-notebook-cell:/Users/ayyub/Desktop/entity-resolution/wrongful-convictions-entity-res/initial-cluster/src/src.ipynb#W6sZmlsZQ%3D%3D?line=28'>29</a>\u001b[0m decision \u001b[39m=\u001b[39m \u001b[39m.5\u001b[39m\n\u001b[1;32m     <a href='vscode-notebook-cell:/Users/ayyub/Desktop/entity-resolution/wrongful-convictions-entity-res/initial-cluster/src/src.ipynb#W6sZmlsZQ%3D%3D?line=29'>30</a>\u001b[0m \u001b[39mwith\u001b[39;00m Spinner(\u001b[39m\"\u001b[39m\u001b[39msaving matched clusters to Excel file\u001b[39m\u001b[39m\"\u001b[39m):\n\u001b[0;32m---> <a href='vscode-notebook-cell:/Users/ayyub/Desktop/entity-resolution/wrongful-convictions-entity-res/initial-cluster/src/src.ipynb#W6sZmlsZQ%3D%3D?line=30'>31</a>\u001b[0m     matcher\u001b[39m.\u001b[39;49msave_clusters_to_excel(excel_path, decision, lower_bound\u001b[39m=\u001b[39;49mdecision)\n\u001b[1;32m     <a href='vscode-notebook-cell:/Users/ayyub/Desktop/entity-resolution/wrongful-convictions-entity-res/initial-cluster/src/src.ipynb#W6sZmlsZQ%3D%3D?line=31'>32</a>\u001b[0m clusters \u001b[39m=\u001b[39m matcher\u001b[39m.\u001b[39mget_index_clusters_within_thresholds(decision)\n\u001b[1;32m     <a href='vscode-notebook-cell:/Users/ayyub/Desktop/entity-resolution/wrongful-convictions-entity-res/initial-cluster/src/src.ipynb#W6sZmlsZQ%3D%3D?line=32'>33</a>\u001b[0m \u001b[39mprint\u001b[39m(\u001b[39m\"\u001b[39m\u001b[39msaved \u001b[39m\u001b[39m%d\u001b[39;00m\u001b[39m clusters to \u001b[39m\u001b[39m%s\u001b[39;00m\u001b[39m\"\u001b[39m \u001b[39m%\u001b[39m (\u001b[39mlen\u001b[39m(clusters), excel_path))\n",
      "File \u001b[0;32m/opt/homebrew/lib/python3.11/site-packages/datamatch/matchers.py:452\u001b[0m, in \u001b[0;36mThresholdMatcher.save_clusters_to_excel\u001b[0;34m(self, name, match_threshold, lower_bound, include_exact_matches)\u001b[0m\n\u001b[1;32m    426\u001b[0m \u001b[39mdef\u001b[39;00m \u001b[39msave_clusters_to_excel\u001b[39m(\u001b[39mself\u001b[39m, name: \u001b[39mstr\u001b[39m, match_threshold: \u001b[39mfloat\u001b[39m, lower_bound: \u001b[39mfloat\u001b[39m \u001b[39m=\u001b[39m \u001b[39m0.7\u001b[39m, include_exact_matches: \u001b[39mbool\u001b[39m \u001b[39m=\u001b[39m \u001b[39mTrue\u001b[39;00m) \u001b[39m-\u001b[39m\u001b[39m>\u001b[39m \u001b[39mNone\u001b[39;00m:\n\u001b[1;32m    427\u001b[0m \u001b[39m    \u001b[39m\u001b[39m\"\"\"Save matched clusters to an Excel file.\u001b[39;00m\n\u001b[1;32m    428\u001b[0m \n\u001b[1;32m    429\u001b[0m \u001b[39m    This will create an Excel file with two sheets:\u001b[39;00m\n\u001b[0;32m   (...)\u001b[0m\n\u001b[1;32m    450\u001b[0m \u001b[39m    :rtype: :obj:`None`\u001b[39;00m\n\u001b[1;32m    451\u001b[0m \u001b[39m    \"\"\"\u001b[39;00m\n\u001b[0;32m--> 452\u001b[0m     \u001b[39mwith\u001b[39;49;00m pd\u001b[39m.\u001b[39;49mExcelWriter(name) \u001b[39mas\u001b[39;49;00m writer:\n\u001b[1;32m    453\u001b[0m         \u001b[39mself\u001b[39;49m\u001b[39m.\u001b[39;49mget_clusters_within_threshold(\n\u001b[1;32m    454\u001b[0m             lower_bound,\n\u001b[1;32m    455\u001b[0m             include_exact_matches\n\u001b[1;32m    456\u001b[0m         )\u001b[39m.\u001b[39;49mto_excel(writer, sheet_name\u001b[39m=\u001b[39;49m\u001b[39m'\u001b[39;49m\u001b[39mAll clusters\u001b[39;49m\u001b[39m'\u001b[39;49m)\n\u001b[1;32m    457\u001b[0m         \u001b[39mself\u001b[39;49m\u001b[39m.\u001b[39;49m_decision_series(\n\u001b[1;32m    458\u001b[0m             match_threshold\n\u001b[1;32m    459\u001b[0m         )\u001b[39m.\u001b[39;49mto_excel(writer, sheet_name\u001b[39m=\u001b[39;49m\u001b[39m\"\u001b[39;49m\u001b[39mDecision\u001b[39;49m\u001b[39m\"\u001b[39;49m)\n",
      "File \u001b[0;32m/opt/homebrew/lib/python3.11/site-packages/pandas/io/excel/_base.py:1353\u001b[0m, in \u001b[0;36mExcelWriter.__exit__\u001b[0;34m(self, exc_type, exc_value, traceback)\u001b[0m\n\u001b[1;32m   1347\u001b[0m \u001b[39mdef\u001b[39;00m \u001b[39m__exit__\u001b[39m(\n\u001b[1;32m   1348\u001b[0m     \u001b[39mself\u001b[39m,\n\u001b[1;32m   1349\u001b[0m     exc_type: \u001b[39mtype\u001b[39m[\u001b[39mBaseException\u001b[39;00m] \u001b[39m|\u001b[39m \u001b[39mNone\u001b[39;00m,\n\u001b[1;32m   1350\u001b[0m     exc_value: \u001b[39mBaseException\u001b[39;00m \u001b[39m|\u001b[39m \u001b[39mNone\u001b[39;00m,\n\u001b[1;32m   1351\u001b[0m     traceback: TracebackType \u001b[39m|\u001b[39m \u001b[39mNone\u001b[39;00m,\n\u001b[1;32m   1352\u001b[0m ) \u001b[39m-\u001b[39m\u001b[39m>\u001b[39m \u001b[39mNone\u001b[39;00m:\n\u001b[0;32m-> 1353\u001b[0m     \u001b[39mself\u001b[39;49m\u001b[39m.\u001b[39;49mclose()\n",
      "File \u001b[0;32m/opt/homebrew/lib/python3.11/site-packages/pandas/io/excel/_base.py:1357\u001b[0m, in \u001b[0;36mExcelWriter.close\u001b[0;34m(self)\u001b[0m\n\u001b[1;32m   1355\u001b[0m \u001b[39mdef\u001b[39;00m \u001b[39mclose\u001b[39m(\u001b[39mself\u001b[39m) \u001b[39m-\u001b[39m\u001b[39m>\u001b[39m \u001b[39mNone\u001b[39;00m:\n\u001b[1;32m   1356\u001b[0m \u001b[39m    \u001b[39m\u001b[39m\"\"\"synonym for save, to make it more file-like\"\"\"\u001b[39;00m\n\u001b[0;32m-> 1357\u001b[0m     \u001b[39mself\u001b[39;49m\u001b[39m.\u001b[39;49m_save()\n\u001b[1;32m   1358\u001b[0m     \u001b[39mself\u001b[39m\u001b[39m.\u001b[39m_handles\u001b[39m.\u001b[39mclose()\n",
      "File \u001b[0;32m/opt/homebrew/lib/python3.11/site-packages/pandas/io/excel/_openpyxl.py:110\u001b[0m, in \u001b[0;36mOpenpyxlWriter._save\u001b[0;34m(self)\u001b[0m\n\u001b[1;32m    106\u001b[0m \u001b[39mdef\u001b[39;00m \u001b[39m_save\u001b[39m(\u001b[39mself\u001b[39m) \u001b[39m-\u001b[39m\u001b[39m>\u001b[39m \u001b[39mNone\u001b[39;00m:\n\u001b[1;32m    107\u001b[0m \u001b[39m    \u001b[39m\u001b[39m\"\"\"\u001b[39;00m\n\u001b[1;32m    108\u001b[0m \u001b[39m    Save workbook to disk.\u001b[39;00m\n\u001b[1;32m    109\u001b[0m \u001b[39m    \"\"\"\u001b[39;00m\n\u001b[0;32m--> 110\u001b[0m     \u001b[39mself\u001b[39;49m\u001b[39m.\u001b[39;49mbook\u001b[39m.\u001b[39;49msave(\u001b[39mself\u001b[39;49m\u001b[39m.\u001b[39;49m_handles\u001b[39m.\u001b[39;49mhandle)\n\u001b[1;32m    111\u001b[0m     \u001b[39mif\u001b[39;00m \u001b[39m\"\u001b[39m\u001b[39mr+\u001b[39m\u001b[39m\"\u001b[39m \u001b[39min\u001b[39;00m \u001b[39mself\u001b[39m\u001b[39m.\u001b[39m_mode \u001b[39mand\u001b[39;00m \u001b[39mnot\u001b[39;00m \u001b[39misinstance\u001b[39m(\u001b[39mself\u001b[39m\u001b[39m.\u001b[39m_handles\u001b[39m.\u001b[39mhandle, mmap\u001b[39m.\u001b[39mmmap):\n\u001b[1;32m    112\u001b[0m         \u001b[39m# truncate file to the written content\u001b[39;00m\n\u001b[1;32m    113\u001b[0m         \u001b[39mself\u001b[39m\u001b[39m.\u001b[39m_handles\u001b[39m.\u001b[39mhandle\u001b[39m.\u001b[39mtruncate()\n",
      "File \u001b[0;32m/opt/homebrew/lib/python3.11/site-packages/openpyxl/workbook/workbook.py:407\u001b[0m, in \u001b[0;36mWorkbook.save\u001b[0;34m(self, filename)\u001b[0m\n\u001b[1;32m    405\u001b[0m \u001b[39mif\u001b[39;00m \u001b[39mself\u001b[39m\u001b[39m.\u001b[39mwrite_only \u001b[39mand\u001b[39;00m \u001b[39mnot\u001b[39;00m \u001b[39mself\u001b[39m\u001b[39m.\u001b[39mworksheets:\n\u001b[1;32m    406\u001b[0m     \u001b[39mself\u001b[39m\u001b[39m.\u001b[39mcreate_sheet()\n\u001b[0;32m--> 407\u001b[0m save_workbook(\u001b[39mself\u001b[39;49m, filename)\n",
      "File \u001b[0;32m/opt/homebrew/lib/python3.11/site-packages/openpyxl/writer/excel.py:293\u001b[0m, in \u001b[0;36msave_workbook\u001b[0;34m(workbook, filename)\u001b[0m\n\u001b[1;32m    291\u001b[0m archive \u001b[39m=\u001b[39m ZipFile(filename, \u001b[39m'\u001b[39m\u001b[39mw\u001b[39m\u001b[39m'\u001b[39m, ZIP_DEFLATED, allowZip64\u001b[39m=\u001b[39m\u001b[39mTrue\u001b[39;00m)\n\u001b[1;32m    292\u001b[0m writer \u001b[39m=\u001b[39m ExcelWriter(workbook, archive)\n\u001b[0;32m--> 293\u001b[0m writer\u001b[39m.\u001b[39;49msave()\n\u001b[1;32m    294\u001b[0m \u001b[39mreturn\u001b[39;00m \u001b[39mTrue\u001b[39;00m\n",
      "File \u001b[0;32m/opt/homebrew/lib/python3.11/site-packages/openpyxl/writer/excel.py:275\u001b[0m, in \u001b[0;36mExcelWriter.save\u001b[0;34m(self)\u001b[0m\n\u001b[1;32m    273\u001b[0m \u001b[39mdef\u001b[39;00m \u001b[39msave\u001b[39m(\u001b[39mself\u001b[39m):\n\u001b[1;32m    274\u001b[0m \u001b[39m    \u001b[39m\u001b[39m\"\"\"Write data into the archive.\"\"\"\u001b[39;00m\n\u001b[0;32m--> 275\u001b[0m     \u001b[39mself\u001b[39;49m\u001b[39m.\u001b[39;49mwrite_data()\n\u001b[1;32m    276\u001b[0m     \u001b[39mself\u001b[39m\u001b[39m.\u001b[39m_archive\u001b[39m.\u001b[39mclose()\n",
      "File \u001b[0;32m/opt/homebrew/lib/python3.11/site-packages/openpyxl/writer/excel.py:89\u001b[0m, in \u001b[0;36mExcelWriter.write_data\u001b[0;34m(self)\u001b[0m\n\u001b[1;32m     87\u001b[0m writer \u001b[39m=\u001b[39m WorkbookWriter(\u001b[39mself\u001b[39m\u001b[39m.\u001b[39mworkbook)\n\u001b[1;32m     88\u001b[0m archive\u001b[39m.\u001b[39mwritestr(ARC_ROOT_RELS, writer\u001b[39m.\u001b[39mwrite_root_rels())\n\u001b[0;32m---> 89\u001b[0m archive\u001b[39m.\u001b[39mwritestr(ARC_WORKBOOK, writer\u001b[39m.\u001b[39;49mwrite())\n\u001b[1;32m     90\u001b[0m archive\u001b[39m.\u001b[39mwritestr(ARC_WORKBOOK_RELS, writer\u001b[39m.\u001b[39mwrite_rels())\n\u001b[1;32m     92\u001b[0m \u001b[39mself\u001b[39m\u001b[39m.\u001b[39m_merge_vba()\n",
      "File \u001b[0;32m/opt/homebrew/lib/python3.11/site-packages/openpyxl/workbook/_writer.py:148\u001b[0m, in \u001b[0;36mWorkbookWriter.write\u001b[0;34m(self)\u001b[0m\n\u001b[1;32m    146\u001b[0m \u001b[39mself\u001b[39m\u001b[39m.\u001b[39mwrite_names()\n\u001b[1;32m    147\u001b[0m \u001b[39mself\u001b[39m\u001b[39m.\u001b[39mwrite_pivots()\n\u001b[0;32m--> 148\u001b[0m \u001b[39mself\u001b[39;49m\u001b[39m.\u001b[39;49mwrite_views()\n\u001b[1;32m    149\u001b[0m \u001b[39mself\u001b[39m\u001b[39m.\u001b[39mwrite_refs()\n\u001b[1;32m    151\u001b[0m \u001b[39mreturn\u001b[39;00m tostring(\u001b[39mself\u001b[39m\u001b[39m.\u001b[39mpackage\u001b[39m.\u001b[39mto_tree())\n",
      "File \u001b[0;32m/opt/homebrew/lib/python3.11/site-packages/openpyxl/workbook/_writer.py:135\u001b[0m, in \u001b[0;36mWorkbookWriter.write_views\u001b[0;34m(self)\u001b[0m\n\u001b[1;32m    134\u001b[0m \u001b[39mdef\u001b[39;00m \u001b[39mwrite_views\u001b[39m(\u001b[39mself\u001b[39m):\n\u001b[0;32m--> 135\u001b[0m     active \u001b[39m=\u001b[39m get_active_sheet(\u001b[39mself\u001b[39;49m\u001b[39m.\u001b[39;49mwb)\n\u001b[1;32m    136\u001b[0m     \u001b[39mif\u001b[39;00m \u001b[39mself\u001b[39m\u001b[39m.\u001b[39mwb\u001b[39m.\u001b[39mviews:\n\u001b[1;32m    137\u001b[0m         \u001b[39mself\u001b[39m\u001b[39m.\u001b[39mwb\u001b[39m.\u001b[39mviews[\u001b[39m0\u001b[39m]\u001b[39m.\u001b[39mactiveTab \u001b[39m=\u001b[39m active\n",
      "File \u001b[0;32m/opt/homebrew/lib/python3.11/site-packages/openpyxl/workbook/_writer.py:33\u001b[0m, in \u001b[0;36mget_active_sheet\u001b[0;34m(wb)\u001b[0m\n\u001b[1;32m     31\u001b[0m visible_sheets \u001b[39m=\u001b[39m [idx \u001b[39mfor\u001b[39;00m idx, sheet \u001b[39min\u001b[39;00m \u001b[39menumerate\u001b[39m(wb\u001b[39m.\u001b[39m_sheets) \u001b[39mif\u001b[39;00m sheet\u001b[39m.\u001b[39msheet_state \u001b[39m==\u001b[39m \u001b[39m\"\u001b[39m\u001b[39mvisible\u001b[39m\u001b[39m\"\u001b[39m]\n\u001b[1;32m     32\u001b[0m \u001b[39mif\u001b[39;00m \u001b[39mnot\u001b[39;00m visible_sheets:\n\u001b[0;32m---> 33\u001b[0m     \u001b[39mraise\u001b[39;00m \u001b[39mIndexError\u001b[39;00m(\u001b[39m\"\u001b[39m\u001b[39mAt least one sheet must be visible\u001b[39m\u001b[39m\"\u001b[39m)\n\u001b[1;32m     35\u001b[0m idx \u001b[39m=\u001b[39m wb\u001b[39m.\u001b[39m_active_sheet_index\n\u001b[1;32m     36\u001b[0m sheet \u001b[39m=\u001b[39m wb\u001b[39m.\u001b[39mactive\n",
      "\u001b[0;31mIndexError\u001b[0m: At least one sheet must be visible"
     ]
    }
   ],
   "source": [
    "jarowink_matcher(df)"
   ]
  }
 ],
 "metadata": {
  "kernelspec": {
   "display_name": "Python 3",
   "language": "python",
   "name": "python3"
  },
  "language_info": {
   "codemirror_mode": {
    "name": "ipython",
    "version": 3
   },
   "file_extension": ".py",
   "mimetype": "text/x-python",
   "name": "python",
   "nbconvert_exporter": "python",
   "pygments_lexer": "ipython3",
   "version": "3.11.7"
  }
 },
 "nbformat": 4,
 "nbformat_minor": 2
}
