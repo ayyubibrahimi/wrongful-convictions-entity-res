{
 "cells": [
  {
   "cell_type": "code",
   "execution_count": 31,
   "metadata": {},
   "outputs": [],
   "source": [
    "import pandas as pd \n",
    "import numpy as np\n",
    "\n",
    "from sklearn.feature_extraction.text import TfidfVectorizer\n",
    "import jellyfish\n",
    "\n"
   ]
  },
  {
   "cell_type": "code",
   "execution_count": 32,
   "metadata": {},
   "outputs": [],
   "source": [
    "def generate_blocking_keys(df):\n",
    "    df.fillna('', inplace=True)\n",
    "\n",
    "    ### hierarchial blocking: fileid\n",
    "    # df['filename_blocking_key'] = df['id'].str.lower().str.strip()\n",
    "    \n",
    "    # Generate partial blocking keys from names\n",
    "    df['last_name_blocking_key'] = df['entity_1_last_name'].str.lower().str[:3] + '_' + df['entity_2_last_name'].str.lower().str[:3]\n",
    "    df['first_name_blocking_key'] = df['entity_1_first_name'].str.lower().str[:3] + '_' + df['entity_2_first_name'].str.lower().str[:3]\n",
    "    \n",
    "    # Generate a blocking key based on context similarity\n",
    "    df['context_similar'] = np.where(df['context_similarity'].astype(float) > 0.9, 'context_similar', 'context_not_similar')\n",
    "    \n",
    "    \n",
    "    # Combine all blocking keys into a single combined_blocking_key\n",
    "    df['combined_blocking_key'] = df.apply(lambda x: '_'.join([\n",
    "        x['first_name_blocking_key'],\n",
    "        x['last_name_blocking_key'],\n",
    "        x['context_similar'],\n",
    "    ]), axis=1)\n",
    "\n",
    "    df\n",
    "    \n",
    "    return df\n",
    "\n",
    "\n",
    "\n",
    "df = pd.read_csv(\"../../ts-feature-engineering/data/output/features.csv\")\n",
    "\n",
    "df['normalized_label'] = df['label'].str.lower().str.strip()\n",
    "\n",
    "label_mapping = {\n",
    "        'easy match': 1, \n",
    "        'hard match': 1, \n",
    "        'easy non-match': 0, \n",
    "        'hard non-match': 0\n",
    "    }\n",
    "\n",
    "df['label_numeric'] = df['normalized_label'].map(label_mapping)\n",
    "\n",
    "df = generate_blocking_keys(df)\n",
    "df\n",
    "df.to_csv(\"../data/output/ts-blocks.csv\", index=False)"
   ]
  }
 ],
 "metadata": {
  "kernelspec": {
   "display_name": "Python 3",
   "language": "python",
   "name": "python3"
  },
  "language_info": {
   "codemirror_mode": {
    "name": "ipython",
    "version": 3
   },
   "file_extension": ".py",
   "mimetype": "text/x-python",
   "name": "python",
   "nbconvert_exporter": "python",
   "pygments_lexer": "ipython3",
   "version": "3.11.7"
  }
 },
 "nbformat": 4,
 "nbformat_minor": 2
}
